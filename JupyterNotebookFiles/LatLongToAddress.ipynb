{
 "cells": [
  {
   "cell_type": "code",
   "execution_count": null,
   "id": "occupied-contest",
   "metadata": {},
   "outputs": [],
   "source": []
  },
  {
   "cell_type": "code",
   "execution_count": 9,
   "id": "geographic-means",
   "metadata": {},
   "outputs": [],
   "source": [
    "from selenium import webdriver\n",
    "    from webdriver_manager.chrome import ChromeDriverManager\n",
    "    from selenium.webdriver.common.keys import Keys\n",
    "    import time\n",
    "    "
   ]
  },
  {
   "cell_type": "code",
   "execution_count": 10,
   "id": "worse-harrison",
   "metadata": {},
   "outputs": [
    {
     "name": "stderr",
     "output_type": "stream",
     "text": [
      "[WDM] - Current google-chrome version is 88.0.4324\n",
      "[WDM] - Get LATEST driver version for 88.0.4324\n",
      "[WDM] - Driver [C:\\Users\\kunal\\.wdm\\drivers\\chromedriver\\win32\\88.0.4324.96\\chromedriver.exe] found in cache\n"
     ]
    },
    {
     "name": "stdout",
     "output_type": "stream",
     "text": [
      " \n"
     ]
    }
   ],
   "source": [
    "driver = webdriver.Chrome(ChromeDriverManager().install())"
   ]
  },
  {
   "cell_type": "code",
   "execution_count": 11,
   "id": "smooth-november",
   "metadata": {},
   "outputs": [],
   "source": [
    "driver.get(\"https://www.latlong.net/Show-Latitude-Longitude.html\")"
   ]
  },
  {
   "cell_type": "code",
   "execution_count": 12,
   "id": "consecutive-lesbian",
   "metadata": {},
   "outputs": [],
   "source": [
    "lat = \"/html/body/main/div[2]/div[1]/form/div[1]/div[1]/input\"\n",
    "long = \"/html/body/main/div[2]/div[1]/form/div[1]/div[2]/input\"\n",
    "convert = \"/html/body/main/div[2]/div[1]/form/div[1]/div[3]/button\"\n",
    "answer = \"/html/body/main/div[2]/div[1]/form/div[2]\""
   ]
  },
  {
   "cell_type": "code",
   "execution_count": 20,
   "id": "exempt-vulnerability",
   "metadata": {},
   "outputs": [],
   "source": [
    "latNum = str(33.775215)\n",
    "longNum = str(-84.396067)"
   ]
  },
  {
   "cell_type": "code",
   "execution_count": 17,
   "id": "alpha-arena",
   "metadata": {},
   "outputs": [],
   "source": [
    "latNum = str(33.775823)\n",
    "longNum = str(-84.394613)"
   ]
  },
  {
   "cell_type": "code",
   "execution_count": 21,
   "id": "incomplete-orchestra",
   "metadata": {},
   "outputs": [],
   "source": [
    "driver.find_element_by_xpath(lat).send_keys(Keys.CONTROL, 'a')\n",
    "driver.find_element_by_xpath(lat).send_keys(latNum)\n",
    "driver.find_element_by_xpath(long).send_keys(Keys.CONTROL, 'a')\n",
    "time.sleep(1)\n",
    "driver.find_element_by_xpath(long).send_keys(longNum)\n",
    "driver.find_element_by_xpath(convert).send_keys(Keys.ENTER)\n",
    "addy = driver.find_element_by_xpath(answer).text"
   ]
  },
  {
   "cell_type": "code",
   "execution_count": 22,
   "id": "architectural-quality",
   "metadata": {},
   "outputs": [
    {
     "data": {
      "text/plain": [
       "'247 4th Street Northwest, Atlanta, GA 30318\\nGeorgia Tech Atlanta Georgia United States'"
      ]
     },
     "execution_count": 22,
     "metadata": {},
     "output_type": "execute_result"
    }
   ],
   "source": [
    "addy"
   ]
  },
  {
   "cell_type": "code",
   "execution_count": 23,
   "id": "still-violin",
   "metadata": {},
   "outputs": [],
   "source": [
    "driver.quit()"
   ]
  },
  {
   "cell_type": "code",
   "execution_count": 24,
   "id": "integrated-ghost",
   "metadata": {},
   "outputs": [
    {
     "data": {
      "text/plain": [
       "'247 4th Street Northwest, Atlanta, GA 30318\\nGeorgia Tech Atlanta Georgia United States'"
      ]
     },
     "execution_count": 24,
     "metadata": {},
     "output_type": "execute_result"
    }
   ],
   "source": [
    "addy"
   ]
  },
  {
   "cell_type": "code",
   "execution_count": null,
   "id": "toxic-store",
   "metadata": {},
   "outputs": [],
   "source": []
  }
 ],
 "metadata": {
  "kernelspec": {
   "display_name": "Python 3",
   "language": "python",
   "name": "python3"
  },
  "language_info": {
   "codemirror_mode": {
    "name": "ipython",
    "version": 3
   },
   "file_extension": ".py",
   "mimetype": "text/x-python",
   "name": "python",
   "nbconvert_exporter": "python",
   "pygments_lexer": "ipython3",
   "version": "3.8.6"
  }
 },
 "nbformat": 4,
 "nbformat_minor": 5
}
