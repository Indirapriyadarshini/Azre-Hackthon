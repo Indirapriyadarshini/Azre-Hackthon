{
 "cells": [
  {
   "cell_type": "code",
   "execution_count": 2,
   "id": "handed-nightmare",
   "metadata": {},
   "outputs": [],
   "source": [
    "from azure.cognitiveservices.vision.computervision import ComputerVisionClient\n",
    "from azure.cognitiveservices.vision.computervision.models import VisualFeatureTypes\n",
    "from msrest.authentication import CognitiveServicesCredentials\n",
    "\n",
    "import os\n",
    "subscription_key = \"53f32bba50f1443cb9ae7e927441db83\"\n",
    "endpoint = \"https://azurehackforaccessibility.cognitiveservices.azure.com/\"\n",
    "region = endpoint\n",
    "key = subscription_key\n",
    "\n",
    "credentials = CognitiveServicesCredentials(key)\n",
    "client = ComputerVisionClient(\n",
    "    endpoint= region ,\n",
    "    credentials=credentials\n",
    ")"
   ]
  },
  {
   "cell_type": "code",
   "execution_count": 3,
   "id": "wicked-castle",
   "metadata": {},
   "outputs": [
    {
     "name": "stdout",
     "output_type": "stream",
     "text": [
      "{'additional_properties': {}, 'name': 'outdoor', 'confidence': 0.9993659257888794, 'hint': None}\n",
      "{'additional_properties': {}, 'name': 'sky', 'confidence': 0.9990735054016113, 'hint': None}\n",
      "{'additional_properties': {}, 'name': 'tree', 'confidence': 0.9947496652603149, 'hint': None}\n",
      "{'additional_properties': {}, 'name': 'way', 'confidence': 0.9448271989822388, 'hint': None}\n",
      "{'additional_properties': {}, 'name': 'scene', 'confidence': 0.8963658809661865, 'hint': None}\n",
      "{'additional_properties': {}, 'name': 'plant', 'confidence': 0.7211918234825134, 'hint': None}\n",
      "{'additional_properties': {}, 'name': 'road', 'confidence': 0.6332603693008423, 'hint': None}\n",
      "{'additional_properties': {}, 'name': 'highway', 'confidence': 0.1862131953239441, 'hint': None}\n"
     ]
    }
   ],
   "source": [
    "url = \"https://raw.githubusercontent.com/Kunal2341/testDeleteBS/main/Testing_img_NEW290_.jpg\"\n",
    "image_analysis = client.analyze_image(url,visual_features=[VisualFeatureTypes.tags])\n",
    "\n",
    "for tag in image_analysis.tags:\n",
    "    print(tag)"
   ]
  },
  {
   "cell_type": "code",
   "execution_count": 4,
   "id": "deadly-professional",
   "metadata": {},
   "outputs": [
    {
     "name": "stdout",
     "output_type": "stream",
     "text": [
      "{'additional_properties': {}, 'name': 'celebrities', 'categories': ['people_', '人_', 'pessoas_', 'gente_']}\n",
      "{'additional_properties': {}, 'name': 'landmarks', 'categories': ['outdoor_', '户外_', '屋外_', 'aoarlivre_', 'alairelibre_', 'building_', '建筑_', '建物_', 'edifício_']}\n"
     ]
    }
   ],
   "source": [
    "models = client.list_models()\n",
    "\n",
    "for x in models.models_property:\n",
    "    print(x)"
   ]
  },
  {
   "cell_type": "code",
   "execution_count": 5,
   "id": "earned-portrait",
   "metadata": {},
   "outputs": [],
   "source": [
    "domain = \"landmarks\"\n",
    "url = \"https://raw.githubusercontent.com/Kunal2341/testDeleteBS/main/Testing_img_NEW290_.jpg\"\n",
    "language = \"en\"\n",
    "\n",
    "analysis = client.analyze_image_by_domain(domain, url, language)\n",
    "\n",
    "for landmark in analysis.result[\"landmarks\"]:\n",
    "    print(landmark[\"name\"])\n",
    "    print(landmark[\"confidence\"])"
   ]
  },
  {
   "cell_type": "code",
   "execution_count": 13,
   "id": "flush-inspiration",
   "metadata": {},
   "outputs": [
    {
     "name": "stdout",
     "output_type": "stream",
     "text": [
      "a road with trees and buildings\n",
      "0.3245285749435425\n"
     ]
    }
   ],
   "source": [
    "domain = \"landmarks\"\n",
    "url = \"https://raw.githubusercontent.com/Kunal2341/testDeleteBS/main/Testing_img_NEW290_.jpg\"\n",
    "language = \"en\"\n",
    "max_descriptions = 20\n",
    "\n",
    "analysis = client.describe_image(url, max_descriptions, language)\n",
    "\n",
    "for caption in analysis.captions:\n",
    "    print(caption.text)\n",
    "    print(caption.confidence)"
   ]
  },
  {
   "cell_type": "code",
   "execution_count": 14,
   "id": "tamil-grammar",
   "metadata": {},
   "outputs": [
    {
     "data": {
      "text/plain": [
       "['outdoor', 'sky', 'tree', 'way', 'scene', 'road', 'highway']"
      ]
     },
     "execution_count": 14,
     "metadata": {},
     "output_type": "execute_result"
    }
   ],
   "source": [
    "analysis.tags"
   ]
  },
  {
   "cell_type": "code",
   "execution_count": null,
   "id": "agreed-gothic",
   "metadata": {},
   "outputs": [],
   "source": []
  },
  {
   "cell_type": "code",
   "execution_count": 11,
   "id": "mighty-modeling",
   "metadata": {},
   "outputs": [
    {
     "name": "stdout",
     "output_type": "stream",
     "text": [
      "ERROR\n"
     ]
    }
   ],
   "source": [
    "# import models\n",
    "from azure.cognitiveservices.vision.computervision.models import OperationStatusCodes\n",
    "\n",
    "url = \"https://raw.githubusercontent.com/Kunal2341/testDeleteBS/main/Testing_img_NEW290_.jpg\"\n",
    "raw = True\n",
    "numberOfCharsInOperationId = 36\n",
    "\n",
    "# SDK call\n",
    "rawHttpResponse = client.read(url, language=\"en\", raw=True)\n",
    "\n",
    "# Get ID from returned headers\n",
    "operationLocation = rawHttpResponse.headers[\"Operation-Location\"]\n",
    "idLocation = len(operationLocation) - numberOfCharsInOperationId\n",
    "operationId = operationLocation[idLocation:]\n",
    "\n",
    "# SDK call\n",
    "result = client.get_read_result(operationId)\n",
    "\n",
    "# Get data\n",
    "if result.status == OperationStatusCodes.succeeded:\n",
    "\n",
    "    for line in result.analyze_result.read_results[0].lines:\n",
    "        print(line.text)\n",
    "        print(line.bounding_box)\n",
    "else:\n",
    "    print(\"ERROR\")"
   ]
  },
  {
   "cell_type": "code",
   "execution_count": 12,
   "id": "cubic-clone",
   "metadata": {},
   "outputs": [
    {
     "name": "stdout",
     "output_type": "stream",
     "text": [
      "a red bridge over water with Golden Gate Bridge in the background\n",
      "0.47567400336265564\n"
     ]
    }
   ],
   "source": [
    "domain = \"landmarks\"\n",
    "url = \"http://www.public-domain-photos.com/free-stock-photos-4/travel/san-francisco/golden-gate-bridge-in-san-francisco.jpg\"\n",
    "language = \"en\"\n",
    "max_descriptions = 3\n",
    "\n",
    "try:\n",
    "    analysis = client.describe_image(url, max_descriptions, language)\n",
    "\n",
    "    for caption in analysis.captions:\n",
    "        print(caption.text)\n",
    "        print(caption.confidence)\n",
    "except HTTPFailure as e:\n",
    "    if e.status_code == 401:\n",
    "        print(\"Error unauthorized. Make sure your key and region are correct.\")\n",
    "    else:\n",
    "        raise"
   ]
  },
  {
   "cell_type": "code",
   "execution_count": null,
   "id": "second-score",
   "metadata": {},
   "outputs": [],
   "source": []
  }
 ],
 "metadata": {
  "kernelspec": {
   "display_name": "Python 3",
   "language": "python",
   "name": "python3"
  },
  "language_info": {
   "codemirror_mode": {
    "name": "ipython",
    "version": 3
   },
   "file_extension": ".py",
   "mimetype": "text/x-python",
   "name": "python",
   "nbconvert_exporter": "python",
   "pygments_lexer": "ipython3",
   "version": "3.8.6"
  }
 },
 "nbformat": 4,
 "nbformat_minor": 5
}
