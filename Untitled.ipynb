{
 "cells": [
  {
   "cell_type": "code",
   "execution_count": 1,
   "id": "clear-shaft",
   "metadata": {},
   "outputs": [],
   "source": [
    "from azure.cognitiveservices.vision.computervision import ComputerVisionClient\n",
    "from azure.cognitiveservices.vision.computervision.models import OperationStatusCodes\n",
    "from azure.cognitiveservices.vision.computervision.models import VisualFeatureTypes\n",
    "from msrest.authentication import CognitiveServicesCredentials\n",
    "\n",
    "from array import array\n",
    "import os\n",
    "from PIL import Image\n",
    "import sys\n",
    "import time"
   ]
  },
  {
   "cell_type": "code",
   "execution_count": 2,
   "id": "accredited-johnson",
   "metadata": {},
   "outputs": [],
   "source": [
    "subscription_key = \"53f32bba50f1443cb9ae7e927441db83\"\n",
    "endpoint = \"https://azurehackforaccessibility.cognitiveservices.azure.com/\""
   ]
  },
  {
   "cell_type": "code",
   "execution_count": 3,
   "id": "unexpected-snowboard",
   "metadata": {},
   "outputs": [],
   "source": [
    "computervision_client = ComputerVisionClient(endpoint, CognitiveServicesCredentials(subscription_key))"
   ]
  },
  {
   "cell_type": "code",
   "execution_count": 63,
   "id": "pharmaceutical-separation",
   "metadata": {},
   "outputs": [],
   "source": [
    "local_image_path = \"/Users/kunal/Documents/AzureCompetition/img42.jpg\""
   ]
  },
  {
   "cell_type": "code",
   "execution_count": 64,
   "id": "regulation-square",
   "metadata": {},
   "outputs": [
    {
     "name": "stdout",
     "output_type": "stream",
     "text": [
      "===== Describe an Image - local =====\n"
     ]
    }
   ],
   "source": []
  },
  {
   "cell_type": "code",
   "execution_count": null,
   "id": "discrete-antenna",
   "metadata": {},
   "outputs": [],
   "source": []
  },
  {
   "cell_type": "code",
   "execution_count": null,
   "id": "dental-campbell",
   "metadata": {},
   "outputs": [],
   "source": []
  },
  {
   "cell_type": "code",
   "execution_count": 86,
   "id": "sixth-minnesota",
   "metadata": {},
   "outputs": [
    {
     "name": "stdout",
     "output_type": "stream",
     "text": [
      "REQUEST ID: e47e914f-ac95-4302-90f0-0638403e970f\n",
      "Area (X,Y,W,H): 0,0,640,640\n"
     ]
    }
   ],
   "source": [
    "# Open local image file\n",
    "local_image = open(local_image_path, \"rb\")\n",
    "area_interest = computervision_client.get_area_of_interest_in_stream(local_image)\n",
    "print(\"REQUEST ID: {}\".format(area_interest.request_id))\n",
    "print(\"Area (X,Y,W,H): {},{},{},{}\".format(area_interest.area_of_interest.x, area_interest.area_of_interest.y, \n",
    "                                           area_interest.area_of_interest.w, area_interest.area_of_interest.h))"
   ]
  },
  {
   "cell_type": "code",
   "execution_count": null,
   "id": "global-frequency",
   "metadata": {},
   "outputs": [],
   "source": []
  },
  {
   "cell_type": "code",
   "execution_count": null,
   "id": "written-privacy",
   "metadata": {},
   "outputs": [],
   "source": []
  },
  {
   "cell_type": "code",
   "execution_count": 80,
   "id": "transparent-heath",
   "metadata": {},
   "outputs": [
    {
     "data": {
      "text/plain": [
       "0"
      ]
     },
     "execution_count": 80,
     "metadata": {},
     "output_type": "execute_result"
    }
   ],
   "source": [
    "area_interest.area_of_interest.x"
   ]
  },
  {
   "cell_type": "code",
   "execution_count": 82,
   "id": "posted-discovery",
   "metadata": {},
   "outputs": [
    {
     "data": {
      "text/plain": [
       "0"
      ]
     },
     "execution_count": 82,
     "metadata": {},
     "output_type": "execute_result"
    }
   ],
   "source": [
    "area_interest.area_of_interest.y"
   ]
  },
  {
   "cell_type": "code",
   "execution_count": 83,
   "id": "annual-timing",
   "metadata": {},
   "outputs": [
    {
     "data": {
      "text/plain": [
       "640"
      ]
     },
     "execution_count": 83,
     "metadata": {},
     "output_type": "execute_result"
    }
   ],
   "source": [
    "area_interest.area_of_interest.w"
   ]
  },
  {
   "cell_type": "code",
   "execution_count": 84,
   "id": "wrapped-island",
   "metadata": {},
   "outputs": [
    {
     "data": {
      "text/plain": [
       "640"
      ]
     },
     "execution_count": 84,
     "metadata": {},
     "output_type": "execute_result"
    }
   ],
   "source": [
    "area_interest.area_of_interest.h"
   ]
  },
  {
   "cell_type": "code",
   "execution_count": null,
   "id": "forbidden-dealing",
   "metadata": {},
   "outputs": [],
   "source": []
  },
  {
   "cell_type": "code",
   "execution_count": 73,
   "id": "economic-luxury",
   "metadata": {},
   "outputs": [
    {
     "name": "stdout",
     "output_type": "stream",
     "text": [
      "===== Describe an Image - local =====\n",
      "Description of local image: \n",
      "'a brick walkway with trees and grass' with confidence 27.36%\n",
      "TAGS: outdoor\n",
      "TAGS: tree\n",
      "TAGS: sky\n",
      "TAGS: ground\n",
      "\n"
     ]
    }
   ],
   "source": [
    "print(\"===== Describe an Image - local =====\")\n",
    "# Open local image file\n",
    "local_image = open(local_image_path, \"rb\")\n",
    "# Call API\n",
    "description_result = computervision_client.describe_image_in_stream(local_image)\n",
    "\n",
    "# Get the captions (descriptions) from the response, with confidence level\n",
    "print(\"Description of local image: \")\n",
    "if (len(description_result.captions) == 0):\n",
    "    print(\"No description detected.\")\n",
    "else:\n",
    "    for caption in description_result.captions:\n",
    "        print(\"'{}' with confidence {:.2f}%\".format(caption.text, caption.confidence * 100))\n",
    "for i in description_result.tags:\n",
    "    print(\"TAGS: {}\")\n",
    "print()"
   ]
  },
  {
   "cell_type": "code",
   "execution_count": 72,
   "id": "constant-border",
   "metadata": {},
   "outputs": [
    {
     "data": {
      "text/plain": [
       "['outdoor', 'tree', 'sky', 'ground']"
      ]
     },
     "execution_count": 72,
     "metadata": {},
     "output_type": "execute_result"
    }
   ],
   "source": [
    "description_result.tags"
   ]
  },
  {
   "cell_type": "code",
   "execution_count": 71,
   "id": "invalid-travel",
   "metadata": {},
   "outputs": [
    {
     "data": {
      "text/plain": [
       "'a brick walkway with trees and grass'"
      ]
     },
     "execution_count": 71,
     "metadata": {},
     "output_type": "execute_result"
    }
   ],
   "source": [
    "description_result.captions[0].text"
   ]
  },
  {
   "cell_type": "code",
   "execution_count": null,
   "id": "coupled-color",
   "metadata": {},
   "outputs": [],
   "source": []
  },
  {
   "cell_type": "code",
   "execution_count": 27,
   "id": "banner-conflict",
   "metadata": {},
   "outputs": [
    {
     "ename": "TypeError",
     "evalue": "'ImageDescription' object is not iterable",
     "output_type": "error",
     "traceback": [
      "\u001b[1;31m---------------------------------------------------------------------------\u001b[0m",
      "\u001b[1;31mTypeError\u001b[0m                                 Traceback (most recent call last)",
      "\u001b[1;32m<ipython-input-27-f6ae1352a0e1>\u001b[0m in \u001b[0;36m<module>\u001b[1;34m\u001b[0m\n\u001b[1;32m----> 1\u001b[1;33m \u001b[1;32mfor\u001b[0m \u001b[0mi\u001b[0m \u001b[1;32min\u001b[0m \u001b[0mdescription_result\u001b[0m\u001b[1;33m:\u001b[0m\u001b[1;33m\u001b[0m\u001b[1;33m\u001b[0m\u001b[0m\n\u001b[0m\u001b[0;32m      2\u001b[0m     \u001b[0mprint\u001b[0m\u001b[1;33m(\u001b[0m\u001b[0mi\u001b[0m\u001b[1;33m)\u001b[0m\u001b[1;33m\u001b[0m\u001b[1;33m\u001b[0m\u001b[0m\n",
      "\u001b[1;31mTypeError\u001b[0m: 'ImageDescription' object is not iterable"
     ]
    }
   ],
   "source": [
    "for i in description_result:\n",
    "    print(i)"
   ]
  },
  {
   "cell_type": "code",
   "execution_count": 28,
   "id": "supreme-aside",
   "metadata": {},
   "outputs": [
    {
     "ename": "AttributeError",
     "evalue": "'ImageDescription' object has no attribute 'read'",
     "output_type": "error",
     "traceback": [
      "\u001b[1;31m---------------------------------------------------------------------------\u001b[0m",
      "\u001b[1;31mAttributeError\u001b[0m                            Traceback (most recent call last)",
      "\u001b[1;32m<ipython-input-28-00590affe136>\u001b[0m in \u001b[0;36m<module>\u001b[1;34m\u001b[0m\n\u001b[1;32m----> 1\u001b[1;33m \u001b[0mdescription_result\u001b[0m\u001b[1;33m.\u001b[0m\u001b[0mread\u001b[0m\u001b[1;33m(\u001b[0m\u001b[1;33m)\u001b[0m\u001b[1;33m\u001b[0m\u001b[1;33m\u001b[0m\u001b[0m\n\u001b[0m",
      "\u001b[1;31mAttributeError\u001b[0m: 'ImageDescription' object has no attribute 'read'"
     ]
    }
   ],
   "source": [
    "description_result.read()"
   ]
  },
  {
   "cell_type": "code",
   "execution_count": null,
   "id": "boring-import",
   "metadata": {},
   "outputs": [],
   "source": []
  },
  {
   "cell_type": "code",
   "execution_count": 44,
   "id": "first-necessity",
   "metadata": {},
   "outputs": [
    {
     "name": "stdout",
     "output_type": "stream",
     "text": [
      "===== Categorize an Image - local =====\n",
      "Categories from local image: \n",
      "'outdoor_road' with confidence 30.08%\n",
      "Faces in the local image: \n"
     ]
    },
    {
     "ename": "TypeError",
     "evalue": "object of type 'NoneType' has no len()",
     "output_type": "error",
     "traceback": [
      "\u001b[1;31m---------------------------------------------------------------------------\u001b[0m",
      "\u001b[1;31mTypeError\u001b[0m                                 Traceback (most recent call last)",
      "\u001b[1;32m<ipython-input-44-153acd91929f>\u001b[0m in \u001b[0;36m<module>\u001b[1;34m\u001b[0m\n\u001b[0;32m     13\u001b[0m         \u001b[0mprint\u001b[0m\u001b[1;33m(\u001b[0m\u001b[1;34m\"'{}' with confidence {:.2f}%\"\u001b[0m\u001b[1;33m.\u001b[0m\u001b[0mformat\u001b[0m\u001b[1;33m(\u001b[0m\u001b[0mcategory\u001b[0m\u001b[1;33m.\u001b[0m\u001b[0mname\u001b[0m\u001b[1;33m,\u001b[0m \u001b[0mcategory\u001b[0m\u001b[1;33m.\u001b[0m\u001b[0mscore\u001b[0m \u001b[1;33m*\u001b[0m \u001b[1;36m100\u001b[0m\u001b[1;33m)\u001b[0m\u001b[1;33m)\u001b[0m\u001b[1;33m\u001b[0m\u001b[1;33m\u001b[0m\u001b[0m\n\u001b[0;32m     14\u001b[0m \u001b[0mprint\u001b[0m\u001b[1;33m(\u001b[0m\u001b[1;34m\"Faces in the local image: \"\u001b[0m\u001b[1;33m)\u001b[0m\u001b[1;33m\u001b[0m\u001b[1;33m\u001b[0m\u001b[0m\n\u001b[1;32m---> 15\u001b[1;33m \u001b[1;32mif\u001b[0m \u001b[1;33m(\u001b[0m\u001b[0mlen\u001b[0m\u001b[1;33m(\u001b[0m\u001b[0mcategorize_results_local\u001b[0m\u001b[1;33m.\u001b[0m\u001b[0mfaces\u001b[0m\u001b[1;33m)\u001b[0m \u001b[1;33m==\u001b[0m \u001b[1;36m0\u001b[0m\u001b[1;33m)\u001b[0m\u001b[1;33m:\u001b[0m\u001b[1;33m\u001b[0m\u001b[1;33m\u001b[0m\u001b[0m\n\u001b[0m\u001b[0;32m     16\u001b[0m     \u001b[0mprint\u001b[0m\u001b[1;33m(\u001b[0m\u001b[1;34m\"No faces detected.\"\u001b[0m\u001b[1;33m)\u001b[0m\u001b[1;33m\u001b[0m\u001b[1;33m\u001b[0m\u001b[0m\n\u001b[0;32m     17\u001b[0m \u001b[1;32melse\u001b[0m\u001b[1;33m:\u001b[0m\u001b[1;33m\u001b[0m\u001b[1;33m\u001b[0m\u001b[0m\n",
      "\u001b[1;31mTypeError\u001b[0m: object of type 'NoneType' has no len()"
     ]
    }
   ],
   "source": [
    "print(\"===== Categorize an Image - local =====\")\n",
    "# Open local image file\n",
    "local_image = open(local_image_path, \"rb\")\n",
    "# Call API\n",
    "categorize_results_local = computervision_client.analyze_image_in_stream(local_image)\n",
    "\n",
    "# Print category results with confidence score\n",
    "print(\"Categories from local image: \")\n",
    "if (len(categorize_results_local.categories) == 0):\n",
    "    print(\"No categories detected.\")\n",
    "else:\n",
    "    for category in categorize_results_local.categories:\n",
    "        print(\"'{}' with confidence {:.2f}%\".format(category.name, category.score * 100))\n",
    "print(\"Faces in the local image: \")\n",
    "if (len(categorize_results_local.faces) == 0):\n",
    "    print(\"No faces detected.\")\n",
    "else:\n",
    "    for face in categorize_results_local.faces:\n",
    "        print(\"'{}' of age {} at location {}, {}, {}, {}\".format(face.gender, face.age, \\\n",
    "        face.face_rectangle.left, face.face_rectangle.top, \\\n",
    "        face.face_rectangle.left + face.face_rectangle.width, \\\n",
    "        face.face_rectangle.top + face.face_rectangle.height))\n",
    "print()"
   ]
  },
  {
   "cell_type": "code",
   "execution_count": null,
   "id": "western-closer",
   "metadata": {},
   "outputs": [],
   "source": []
  },
  {
   "cell_type": "code",
   "execution_count": 58,
   "id": "sensitive-guatemala",
   "metadata": {},
   "outputs": [
    {
     "name": "stdout",
     "output_type": "stream",
     "text": [
      "===== Categorize an Image - local =====\n"
     ]
    }
   ],
   "source": [
    "print(\"===== Categorize an Image - local =====\")\n",
    "# Open local image file\n",
    "local_image = open(local_image_path, \"rb\")\n",
    "# Call API\n",
    "categorize_results_local = computervision_client.analyze_image_in_stream(local_image)"
   ]
  },
  {
   "cell_type": "code",
   "execution_count": 53,
   "id": "studied-aluminum",
   "metadata": {},
   "outputs": [
    {
     "name": "stdout",
     "output_type": "stream",
     "text": [
      "Categories from local image: \n",
      "\tCatogory: outdoor_road == Score: 0.30078125\n"
     ]
    }
   ],
   "source": [
    "# Print category results with confidence score\n",
    "print(\"Categories from local image: \")\n",
    "for i in categorize_results_local.categories:\n",
    "    print(\"\\tCatogory: {} == Score: {}\".format(i.name, i.score))\n",
    "    if i.detail != None:\n",
    "        for j in i.detail:\n",
    "            print(j)\n",
    "            for r in j.celebrities:\n",
    "                print(\"\\t\\tCelebrity: {} == Score: {}\".format(r.name, r.confidence))\n",
    "                print(\"Face rectangle\")\n",
    "            for r in j.landmarks:\n",
    "                print(\"\\t\\tLandMark: {} == Score: {}\".format(r.name, r.confidence))\n",
    "                print(\"Face rectangle\")\n",
    "    "
   ]
  },
  {
   "cell_type": "code",
   "execution_count": 61,
   "id": "toxic-external",
   "metadata": {},
   "outputs": [
    {
     "data": {
      "text/plain": [
       "'95def60e-3444-4ead-b270-016240dda05b'"
      ]
     },
     "execution_count": 61,
     "metadata": {},
     "output_type": "execute_result"
    }
   ],
   "source": [
    "categorize_results_local.request_id"
   ]
  },
  {
   "cell_type": "code",
   "execution_count": 55,
   "id": "elect-crown",
   "metadata": {},
   "outputs": [
    {
     "ename": "AttributeError",
     "evalue": "'NoneType' object has no attribute 'is_adult_content'",
     "output_type": "error",
     "traceback": [
      "\u001b[1;31m---------------------------------------------------------------------------\u001b[0m",
      "\u001b[1;31mAttributeError\u001b[0m                            Traceback (most recent call last)",
      "\u001b[1;32m<ipython-input-55-ecd437425432>\u001b[0m in \u001b[0;36m<module>\u001b[1;34m\u001b[0m\n\u001b[1;32m----> 1\u001b[1;33m \u001b[0mcategorize_results_local\u001b[0m\u001b[1;33m.\u001b[0m\u001b[0madult\u001b[0m\u001b[1;33m.\u001b[0m\u001b[0mis_adult_content\u001b[0m\u001b[1;33m\u001b[0m\u001b[1;33m\u001b[0m\u001b[0m\n\u001b[0m",
      "\u001b[1;31mAttributeError\u001b[0m: 'NoneType' object has no attribute 'is_adult_content'"
     ]
    }
   ],
   "source": [
    "# ADULT NOT NEEDED --> categorize_results_local.adult"
   ]
  },
  {
   "cell_type": "code",
   "execution_count": null,
   "id": "strange-symposium",
   "metadata": {},
   "outputs": [],
   "source": []
  },
  {
   "cell_type": "code",
   "execution_count": null,
   "id": "covered-edwards",
   "metadata": {},
   "outputs": [],
   "source": []
  },
  {
   "cell_type": "code",
   "execution_count": null,
   "id": "choice-horror",
   "metadata": {},
   "outputs": [],
   "source": []
  },
  {
   "cell_type": "code",
   "execution_count": null,
   "id": "imposed-chapter",
   "metadata": {},
   "outputs": [],
   "source": [
    "detect_faces_results_local = computervision_client.analyze_image_in_stream(local_image, local_image_features)\n",
    "\n",
    "# Print results with confidence score\n",
    "print(\"Faces in the local image: \")\n",
    "if (len(detect_faces_results_local.faces) == 0):\n",
    "    print(\"No faces detected.\")\n",
    "else:\n",
    "    for face in detect_faces_results_local.faces:\n",
    "        print(\"'{}' of age {} at location {}, {}, {}, {}\".format(face.gender, face.age, \\\n",
    "        face.face_rectangle.left, face.face_rectangle.top, \\\n",
    "        face.face_rectangle.left + face.face_rectangle.width, \\\n",
    "        face.face_rectangle.top + face.face_rectangle.height))\n",
    "print()"
   ]
  },
  {
   "cell_type": "code",
   "execution_count": null,
   "id": "usual-comment",
   "metadata": {},
   "outputs": [],
   "source": []
  },
  {
   "cell_type": "code",
   "execution_count": null,
   "id": "cardiac-ability",
   "metadata": {},
   "outputs": [],
   "source": []
  },
  {
   "cell_type": "code",
   "execution_count": 42,
   "id": "smaller-eleven",
   "metadata": {},
   "outputs": [
    {
     "name": "stdout",
     "output_type": "stream",
     "text": [
      "Faces in the local image: \n"
     ]
    },
    {
     "ename": "NameError",
     "evalue": "name 'detect_faces_results_local' is not defined",
     "output_type": "error",
     "traceback": [
      "\u001b[1;31m---------------------------------------------------------------------------\u001b[0m",
      "\u001b[1;31mNameError\u001b[0m                                 Traceback (most recent call last)",
      "\u001b[1;32m<ipython-input-42-06e0aaf52d15>\u001b[0m in \u001b[0;36m<module>\u001b[1;34m\u001b[0m\n\u001b[0;32m      1\u001b[0m \u001b[0mprint\u001b[0m\u001b[1;33m(\u001b[0m\u001b[1;34m\"Faces in the local image: \"\u001b[0m\u001b[1;33m)\u001b[0m\u001b[1;33m\u001b[0m\u001b[1;33m\u001b[0m\u001b[0m\n\u001b[1;32m----> 2\u001b[1;33m \u001b[1;32mif\u001b[0m \u001b[1;33m(\u001b[0m\u001b[0mlen\u001b[0m\u001b[1;33m(\u001b[0m\u001b[0mdetect_faces_results_local\u001b[0m\u001b[1;33m.\u001b[0m\u001b[0mfaces\u001b[0m\u001b[1;33m)\u001b[0m \u001b[1;33m==\u001b[0m \u001b[1;36m0\u001b[0m\u001b[1;33m)\u001b[0m\u001b[1;33m:\u001b[0m\u001b[1;33m\u001b[0m\u001b[1;33m\u001b[0m\u001b[0m\n\u001b[0m\u001b[0;32m      3\u001b[0m     \u001b[0mprint\u001b[0m\u001b[1;33m(\u001b[0m\u001b[1;34m\"No faces detected.\"\u001b[0m\u001b[1;33m)\u001b[0m\u001b[1;33m\u001b[0m\u001b[1;33m\u001b[0m\u001b[0m\n\u001b[0;32m      4\u001b[0m \u001b[1;32melse\u001b[0m\u001b[1;33m:\u001b[0m\u001b[1;33m\u001b[0m\u001b[1;33m\u001b[0m\u001b[0m\n\u001b[0;32m      5\u001b[0m     \u001b[1;32mfor\u001b[0m \u001b[0mface\u001b[0m \u001b[1;32min\u001b[0m \u001b[0mdetect_faces_results_local\u001b[0m\u001b[1;33m.\u001b[0m\u001b[0mfaces\u001b[0m\u001b[1;33m:\u001b[0m\u001b[1;33m\u001b[0m\u001b[1;33m\u001b[0m\u001b[0m\n",
      "\u001b[1;31mNameError\u001b[0m: name 'detect_faces_results_local' is not defined"
     ]
    }
   ],
   "source": []
  },
  {
   "cell_type": "code",
   "execution_count": null,
   "id": "rotary-credits",
   "metadata": {},
   "outputs": [],
   "source": []
  },
  {
   "cell_type": "code",
   "execution_count": null,
   "id": "ceramic-vacation",
   "metadata": {},
   "outputs": [],
   "source": []
  },
  {
   "cell_type": "code",
   "execution_count": null,
   "id": "abstract-directive",
   "metadata": {},
   "outputs": [],
   "source": []
  },
  {
   "cell_type": "code",
   "execution_count": 13,
   "id": "placed-conversation",
   "metadata": {},
   "outputs": [
    {
     "name": "stdout",
     "output_type": "stream",
     "text": [
      "===== Tag an Image - local =====\n",
      "Tags in the local image: \n",
      "'outdoor' with confidence 99.93%\n",
      "'tree' with confidence 99.87%\n",
      "'sky' with confidence 99.00%\n",
      "'ground' with confidence 96.23%\n",
      "'playground' with confidence 83.61%\n",
      "'plant' with confidence 66.10%\n",
      "\n"
     ]
    }
   ],
   "source": [
    "'''\n",
    "Tag an Image - local\n",
    "This example returns a tag (key word) for each thing in the image.\n",
    "'''\n",
    "print(\"===== Tag an Image - local =====\")\n",
    "# Open local image file\n",
    "local_image = open(local_image_path, \"rb\")\n",
    "# Call API local image\n",
    "tags_result_local = computervision_client.tag_image_in_stream(local_image)\n",
    "\n",
    "# Print results with confidence score\n",
    "print(\"Tags in the local image: \")\n",
    "if (len(tags_result_local.tags) == 0):\n",
    "    print(\"No tags detected.\")\n",
    "else:\n",
    "    for tag in tags_result_local.tags:\n",
    "        print(\"'{}' with confidence {:.2f}%\".format(tag.name, tag.confidence * 100))\n",
    "print()"
   ]
  },
  {
   "cell_type": "code",
   "execution_count": 41,
   "id": "organized-vocabulary",
   "metadata": {},
   "outputs": [
    {
     "name": "stdout",
     "output_type": "stream",
     "text": [
      "===== Tag an Image - local =====\n",
      "== MetaData ==\n",
      "MetaData:\n",
      "\tWidth: 640\n",
      "\tHeight: 640\n",
      "\tFormat: Jpeg\n",
      "\tRequest ID: 9b1e2dd5-a299-4bad-956d-f96184e0d290\n",
      "== OutPut ==\n",
      "\t'outdoor' with confidence 99.93% and with hints of None\n",
      "\t'tree' with confidence 99.87% and with hints of None\n",
      "\t'sky' with confidence 99.00% and with hints of None\n",
      "\t'ground' with confidence 96.23% and with hints of None\n",
      "\t'playground' with confidence 83.61% and with hints of None\n",
      "\t'plant' with confidence 66.10% and with hints of None\n"
     ]
    }
   ],
   "source": [
    "print(\"===== Tag an Image - local =====\")\n",
    "# Open local image file\n",
    "local_image = open(local_image_path, \"rb\")\n",
    "# Call API local image\n",
    "tags_result_local = computervision_client.tag_image_in_stream(local_image)\n",
    "print(\"== OutPut ==\")\n",
    "for tag in tags_result_local.tags:\n",
    "    print(\"\\t'{}' with confidence {:.2f}% and with hints of {}\".format(tag.name, tag.confidence * 100, tag.hint))\n",
    "print(\"== MetaData ==\")\n",
    "print(\"\\tWidth: \"+str(tags_result_local.metadata.width))\n",
    "print(\"\\tHeight: \"+str(tags_result_local.metadata.height))\n",
    "print(\"\\tFormat: \"+tags_result_local.metadata.format)\n",
    "print(\"\\tRequest ID: \"+tags_result_local.request_id)"
   ]
  },
  {
   "cell_type": "code",
   "execution_count": null,
   "id": "standing-holder",
   "metadata": {},
   "outputs": [],
   "source": []
  },
  {
   "cell_type": "code",
   "execution_count": null,
   "id": "imposed-characterization",
   "metadata": {},
   "outputs": [],
   "source": []
  },
  {
   "cell_type": "code",
   "execution_count": null,
   "id": "celtic-arizona",
   "metadata": {},
   "outputs": [],
   "source": []
  },
  {
   "cell_type": "code",
   "execution_count": 53,
   "id": "formal-gregory",
   "metadata": {},
   "outputs": [
    {
     "name": "stdout",
     "output_type": "stream",
     "text": [
      "===== Detect Faces - local =====\n",
      "Faces in the local image: \n",
      "No faces detected.\n",
      "\n"
     ]
    }
   ],
   "source": [
    "'''\n",
    "Detect Faces - local\n",
    "This example detects faces in a local image, gets their gender and age, \n",
    "and marks them with a bounding box.\n",
    "'''\n",
    "print(\"===== Detect Faces - local =====\")\n",
    "# Open local image\n",
    "local_image = open(local_image_path, \"rb\")\n",
    "# Select visual features(s) you want\n",
    "local_image_features = [\"faces\"]\n",
    "# Call API with local image and features\n",
    "detect_faces_results_local = computervision_client.analyze_image_in_stream(local_image, local_image_features)\n",
    "\n",
    "# Print results with confidence score\n",
    "print(\"Faces in the local image: \")\n",
    "if (len(detect_faces_results_local.faces) == 0):\n",
    "    print(\"No faces detected.\")\n",
    "else:\n",
    "    for face in detect_faces_results_local.faces:\n",
    "        print(\"'{}' of age {} at location {}, {}, {}, {}\".format(face.gender, face.age, \\\n",
    "        face.face_rectangle.left, face.face_rectangle.top, \\\n",
    "        face.face_rectangle.left + face.face_rectangle.width, \\\n",
    "        face.face_rectangle.top + face.face_rectangle.height))\n",
    "print()"
   ]
  },
  {
   "cell_type": "code",
   "execution_count": 24,
   "id": "lesser-narrative",
   "metadata": {},
   "outputs": [
    {
     "name": "stdout",
     "output_type": "stream",
     "text": [
      "===== Detect Adult or Racy Content - local =====\n",
      "Analyzing local image for adult or racy content ... \n",
      "Is adult content: False with confidence 0.12\n",
      "Has racy content: False with confidence 0.17\n",
      "\n"
     ]
    }
   ],
   "source": [
    "'''\n",
    "Detect Adult or Racy Content - local\n",
    "This example detects adult or racy content in a local image, then prints the adult/racy score.\n",
    "The score is ranged 0.0 - 1.0 with smaller numbers indicating negative results.\n",
    "'''\n",
    "print(\"===== Detect Adult or Racy Content - local =====\")\n",
    "# Open local file\n",
    "local_image = open(local_image_path, \"rb\")\n",
    "# Select visual features you want\n",
    "local_image_features = [\"adult\"]\n",
    "# Call API with local image and features\n",
    "detect_adult_results_local = computervision_client.analyze_image_in_stream(local_image, local_image_features)\n",
    "\n",
    "# Print results with adult/racy score\n",
    "print(\"Analyzing local image for adult or racy content ... \")\n",
    "print(\"Is adult content: {} with confidence {:.2f}\".format(detect_adult_results_local .adult.is_adult_content, detect_adult_results_local .adult.adult_score * 100))\n",
    "print(\"Has racy content: {} with confidence {:.2f}\".format(detect_adult_results_local .adult.is_racy_content, detect_adult_results_local .adult.racy_score * 100))\n",
    "print()"
   ]
  },
  {
   "cell_type": "code",
   "execution_count": 25,
   "id": "impressed-better",
   "metadata": {},
   "outputs": [
    {
     "name": "stdout",
     "output_type": "stream",
     "text": [
      "===== Detect Color - local =====\n",
      "Getting color scheme of the local image: \n",
      "Is black and white: False\n",
      "Accent color: 796449\n",
      "Dominant background color: Grey\n",
      "Dominant foreground color: Grey\n",
      "Dominant colors: ['Grey', 'White']\n",
      "\n"
     ]
    }
   ],
   "source": [
    "'''\n",
    "Detect Color - local\n",
    "This example detects the different aspects of its color scheme in a local image.\n",
    "'''\n",
    "print(\"===== Detect Color - local =====\")\n",
    "# Open local image\n",
    "local_image = open(local_image_path, \"rb\")\n",
    "# Select visual feature(s) you want\n",
    "local_image_features = [\"color\"]\n",
    "# Call API with local image and features\n",
    "detect_color_results_local = computervision_client.analyze_image_in_stream(local_image, local_image_features)\n",
    "\n",
    "# Print results of the color scheme detected\n",
    "print(\"Getting color scheme of the local image: \")\n",
    "print(\"Is black and white: {}\".format(detect_color_results_local.color.is_bw_img))\n",
    "print(\"Accent color: {}\".format(detect_color_results_local.color.accent_color))\n",
    "print(\"Dominant background color: {}\".format(detect_color_results_local.color.dominant_color_background))\n",
    "print(\"Dominant foreground color: {}\".format(detect_color_results_local.color.dominant_color_foreground))\n",
    "print(\"Dominant colors: {}\".format(detect_color_results_local.color.dominant_colors))\n",
    "print()"
   ]
  },
  {
   "cell_type": "code",
   "execution_count": 29,
   "id": "exceptional-conflict",
   "metadata": {},
   "outputs": [
    {
     "name": "stdout",
     "output_type": "stream",
     "text": [
      "===== Detect Domain-specific Content - local =====\n",
      "Celebrities in the local image:\n",
      "No celebrities detected.\n",
      "\n",
      "Landmarks in the local image:\n",
      "No landmarks detected.\n",
      "\n"
     ]
    }
   ],
   "source": [
    "'''\n",
    "Detect Domain-specific Content - local\n",
    "This example detects celebrites and landmarks in local images.\n",
    "'''\n",
    "print(\"===== Detect Domain-specific Content - local =====\")\n",
    "# Open local image file containing a celebtriy\n",
    "local_image = open(local_image_path, \"rb\")\n",
    "# Call API with the type of content (celebrities) and local image\n",
    "detect_domain_results_celebs_local = computervision_client.analyze_image_by_domain_in_stream(\"celebrities\", local_image)\n",
    "\n",
    "# Print which celebrities (if any) were detected\n",
    "print(\"Celebrities in the local image:\")\n",
    "if len(detect_domain_results_celebs_local.result[\"celebrities\"]) == 0:\n",
    "    print(\"No celebrities detected.\")\n",
    "else:\n",
    "    for celeb in detect_domain_results_celebs_local.result[\"celebrities\"]:\n",
    "        print(celeb[\"name\"])\n",
    "\n",
    "# Open local image file containing a landmark\n",
    "local_image_path_landmark = local_image_path\n",
    "local_image_landmark = open(local_image_path_landmark, \"rb\")\n",
    "# Call API with type of content (landmark) and local image\n",
    "detect_domain_results_landmark_local = computervision_client.analyze_image_by_domain_in_stream(\"landmarks\", local_image_landmark)\n",
    "print()\n",
    "\n",
    "# Print results of landmark detected\n",
    "print(\"Landmarks in the local image:\")\n",
    "if len(detect_domain_results_landmark_local.result[\"landmarks\"]) == 0:\n",
    "    print(\"No landmarks detected.\")\n",
    "else:\n",
    "    for landmark in detect_domain_results_landmark_local.result[\"landmarks\"]:\n",
    "        print(landmark[\"name\"])\n",
    "print()"
   ]
  },
  {
   "cell_type": "code",
   "execution_count": 28,
   "id": "logical-logistics",
   "metadata": {},
   "outputs": [
    {
     "name": "stdout",
     "output_type": "stream",
     "text": [
      "===== Detect Image Types - local =====\n",
      "Type of local image:\n",
      "Image is not clip art.\n",
      "Image is not a line drawing.\n",
      "\n"
     ]
    }
   ],
   "source": [
    "'''\n",
    "Detect Image Types - local\n",
    "This example detects an image's type (clip art/line drawing).\n",
    "'''\n",
    "print(\"===== Detect Image Types - local =====\")\n",
    "# Open local image\n",
    "local_image_path_type = local_image_path\n",
    "local_image_type = open(local_image_path_type, \"rb\")\n",
    "# Select visual feature(s) you want\n",
    "local_image_features = [VisualFeatureTypes.image_type]\n",
    "# Call API with local image and features\n",
    "detect_type_results_local = computervision_client.analyze_image_in_stream(local_image_type, local_image_features)\n",
    "\n",
    "# Print type results with degree of accuracy\n",
    "print(\"Type of local image:\")\n",
    "if detect_type_results_local.image_type.clip_art_type == 0:\n",
    "    print(\"Image is not clip art.\")\n",
    "elif detect_type_results_local.image_type.line_drawing_type == 1:\n",
    "    print(\"Image is ambiguously clip art.\")\n",
    "elif detect_type_results_local.image_type.line_drawing_type == 2:\n",
    "    print(\"Image is normal clip art.\")\n",
    "else:\n",
    "    print(\"Image is good clip art.\")\n",
    "\n",
    "if detect_type_results_local.image_type.line_drawing_type == 0:\n",
    "    print(\"Image is not a line drawing.\")\n",
    "else:\n",
    "    print(\"Image is a line drawing\")\n",
    "print()"
   ]
  },
  {
   "cell_type": "code",
   "execution_count": 31,
   "id": "alleged-division",
   "metadata": {},
   "outputs": [
    {
     "name": "stdout",
     "output_type": "stream",
     "text": [
      "===== Detect Objects - local =====\n",
      "Detecting objects in local image:\n",
      "No objects detected.\n",
      "\n"
     ]
    }
   ],
   "source": [
    "'''\n",
    "Detect Objects - local\n",
    "This example detects different kinds of objects with bounding boxes in a local image.\n",
    "'''\n",
    "print(\"===== Detect Objects - local =====\")\n",
    "# Get local image with different objects in it\n",
    "local_image_path_objects = local_image_path\n",
    "local_image_objects = open(local_image_path_objects, \"rb\")\n",
    "# Call API with local image\n",
    "detect_objects_results_local = computervision_client.detect_objects_in_stream(local_image_objects)\n",
    "\n",
    "# Print results of detection with bounding boxes\n",
    "print(\"Detecting objects in local image:\")\n",
    "if len(detect_objects_results_local.objects) == 0:\n",
    "    print(\"No objects detected.\")\n",
    "else:\n",
    "    for object in detect_objects_results_local.objects:\n",
    "        print(\"object at location {}, {}, {}, {}\".format( \\\n",
    "        object.rectangle.x, object.rectangle.x + object.rectangle.w, \\\n",
    "        object.rectangle.y, object.rectangle.y + object.rectangle.h))\n",
    "print()"
   ]
  },
  {
   "cell_type": "code",
   "execution_count": 33,
   "id": "occupational-muscle",
   "metadata": {},
   "outputs": [
    {
     "name": "stdout",
     "output_type": "stream",
     "text": [
      "===== Detect Brands - local =====\n",
      "Detecting brands in local image: \n",
      "No brands detected.\n",
      "\n"
     ]
    }
   ],
   "source": [
    "'''\n",
    "Detect Brands - local\n",
    "This example detects common brands like logos and puts a bounding box around them.\n",
    "'''\n",
    "print(\"===== Detect Brands - local =====\")\n",
    "# Open image file\n",
    "local_image_path_shirt = local_image_path\n",
    "local_image_shirt = open(local_image_path_shirt, \"rb\")\n",
    "# Select the visual feature(s) you want\n",
    "local_image_features = [\"brands\"]\n",
    "# Call API with image and features\n",
    "detect_brands_results_local = computervision_client.analyze_image_in_stream(local_image_shirt, local_image_features)\n",
    "\n",
    "# Print detection results with bounding box and confidence score\n",
    "print(\"Detecting brands in local image: \")\n",
    "if len(detect_brands_results_local.brands) == 0:\n",
    "    print(\"No brands detected.\")\n",
    "else:\n",
    "    for brand in detect_brands_results_local.brands:\n",
    "        print(\"'{}' brand detected with confidence {:.1f}% at location {}, {}, {}, {}\".format( \\\n",
    "        brand.name, brand.confidence * 100, brand.rectangle.x, brand.rectangle.x + brand.rectangle.w, \\\n",
    "        brand.rectangle.y, brand.rectangle.y + brand.rectangle.h))\n",
    "print()"
   ]
  },
  {
   "cell_type": "code",
   "execution_count": 34,
   "id": "impressed-allergy",
   "metadata": {},
   "outputs": [
    {
     "name": "stdout",
     "output_type": "stream",
     "text": [
      "===== Generate Thumbnail =====\n",
      "Generating thumbnail from a local image...\n",
      "Thumbnail saved to local folder.\n",
      "\n"
     ]
    }
   ],
   "source": [
    "'''\n",
    "Generate Thumbnail\n",
    "This example creates a thumbnail from both a local and URL image.\n",
    "'''\n",
    "print(\"===== Generate Thumbnail =====\")\n",
    "\n",
    "# Generate a thumbnail from a local image\n",
    "local_image_path_thumb = local_image_path\n",
    "local_image_thumb = open(local_image_path_objects, \"rb\")\n",
    "\n",
    "print(\"Generating thumbnail from a local image...\")\n",
    "# Call the API with a local image, set the width/height if desired (pixels)\n",
    "# Returns a Generator object, a thumbnail image binary (list).\n",
    "thumb_local = computervision_client.generate_thumbnail_in_stream(100, 100, local_image_thumb, True)\n",
    "\n",
    "# Write the image binary to file\n",
    "with open(\"thumb_local.png\", \"wb\") as f:\n",
    "    for chunk in thumb_local:\n",
    "        f.write(chunk)\n",
    "\n",
    "# Uncomment/use this if you are writing many images as thumbnails from a list\n",
    "# for i, image in enumerate(thumb_local, start=0):\n",
    "#      with open('thumb_{0}.jpg'.format(i), 'wb') as f:\n",
    "#         f.write(image)\n",
    "\n",
    "print(\"Thumbnail saved to local folder.\")\n",
    "print()"
   ]
  },
  {
   "cell_type": "code",
   "execution_count": 14,
   "id": "broad-liquid",
   "metadata": {},
   "outputs": [],
   "source": [
    "import requests\n",
    "# If you are using a Jupyter Notebook, uncomment the following line.\n",
    "%matplotlib inline\n",
    "import matplotlib.pyplot as plt\n",
    "import json\n",
    "from PIL import Image\n",
    "from io import BytesIO"
   ]
  },
  {
   "cell_type": "code",
   "execution_count": 15,
   "id": "studied-auckland",
   "metadata": {},
   "outputs": [],
   "source": [
    "subscription_key = \"53f32bba50f1443cb9ae7e927441db83\"\n",
    "endpoint = \"https://azurehackforaccessibility.cognitiveservices.azure.com/\"\n",
    "\n",
    "analyze_url = endpoint + \"vision/v3.1/analyze\""
   ]
  },
  {
   "cell_type": "code",
   "execution_count": null,
   "id": "early-lending",
   "metadata": {},
   "outputs": [],
   "source": []
  },
  {
   "cell_type": "code",
   "execution_count": 25,
   "id": "exposed-ideal",
   "metadata": {},
   "outputs": [
    {
     "name": "stdout",
     "output_type": "stream",
     "text": [
      "{\"categories\": [{\"name\": \"outdoor_road\", \"score\": 0.30078125, \"detail\": {\"landmarks\": []}}], \"color\": {\"dominantColorForeground\": \"Grey\", \"dominantColorBackground\": \"Grey\", \"dominantColors\": [\"Grey\"], \"accentColor\": \"51582E\", \"isBwImg\": false, \"isBWImg\": false}, \"description\": {\"tags\": [\"outdoor\", \"tree\", \"sky\", \"ground\"], \"captions\": [{\"text\": \"a brick walkway with trees and grass\", \"confidence\": 0.2736092209815979}]}, \"requestId\": \"2e387e46-63e8-4636-9696-464f6e2a365c\", \"metadata\": {\"height\": 640, \"width\": 640, \"format\": \"Jpeg\"}}\n"
     ]
    },
    {
     "data": {
      "image/png": "[encoded data removed]",
      "text/plain": [
       "<Figure size 432x288 with 1 Axes>"
      ]
     },
     "metadata": {
      "needs_background": "light"
     },
     "output_type": "display_data"
    }
   ],
   "source": [
    "\n",
    "# Set image_url to the URL of an image that you want to analyze.\n",
    "image_url = \"https://github.com/Kunal2341/testDeleteBS/raw/main/img42.jpg\"\n",
    "\n",
    "headers = {'Ocp-Apim-Subscription-Key': subscription_key}\n",
    "params = {'visualFeatures': 'Categories,Description,Color'}\n",
    "data = {'url': image_url}\n",
    "response = requests.post(analyze_url, headers=headers,\n",
    "                         params=params, json=data)\n",
    "response.raise_for_status()\n",
    "\n",
    "# The 'analysis' object contains various fields that describe the image. The most\n",
    "# relevant caption for the image is obtained from the 'description' property.\n",
    "analysis = response.json()\n",
    "print(json.dumps(response.json()))\n",
    "image_caption = analysis[\"description\"][\"captions\"][0][\"text\"].capitalize()\n",
    "\n",
    "# Display the image and overlay it with the caption.\n",
    "image = Image.open(BytesIO(requests.get(image_url).content))\n",
    "plt.imshow(image)\n",
    "plt.axis(\"off\")\n",
    "_ = plt.title(image_caption, size=\"x-large\", y=-0.1)\n",
    "plt.show()"
   ]
  },
  {
   "cell_type": "code",
   "execution_count": null,
   "id": "simplified-malaysia",
   "metadata": {},
   "outputs": [],
   "source": []
  },
  {
   "cell_type": "code",
   "execution_count": null,
   "id": "going-department",
   "metadata": {},
   "outputs": [],
   "source": []
  },
  {
   "cell_type": "code",
   "execution_count": null,
   "id": "amazing-rainbow",
   "metadata": {},
   "outputs": [],
   "source": []
  },
  {
   "cell_type": "code",
   "execution_count": 22,
   "id": "commercial-malta",
   "metadata": {},
   "outputs": [],
   "source": [
    "SUBSCRIPTION_KEY_ENV_NAME = \"53f32bba50f1443cb9ae7e927441db83\"\n",
    "COMPUTERVISION_LOCATION = endpoint\n",
    "image_url = \"/Users/kunal/Documents/AzureCompetition/img42.jpg\""
   ]
  },
  {
   "cell_type": "code",
   "execution_count": 24,
   "id": "actual-regulation",
   "metadata": {},
   "outputs": [
    {
     "name": "stdout",
     "output_type": "stream",
     "text": [
      "This image can be described as: a brick walkway with trees and grass\n",
      "\n",
      "Tags associated with this image:\n",
      "Tag\t\tConfidence\n",
      "outdoor\t\t0.9993109703063965\n",
      "tree\t\t0.998714029788971\n",
      "sky\t\t0.9899678230285645\n",
      "ground\t\t0.9622723460197449\n",
      "playground\t\t0.836100161075592\n",
      "plant\t\t0.6609697937965393\n",
      "\n",
      "The primary colors of this image are: ['Grey']\n"
     ]
    }
   ],
   "source": [
    "\"\"\"ImageAnalysisInStream.\n",
    "This will analyze an image from a stream and return all available features.\n",
    "\"\"\"\n",
    "client = ComputerVisionClient(\n",
    "    endpoint=COMPUTERVISION_LOCATION,\n",
    "    credentials=CognitiveServicesCredentials(subscription_key)\n",
    ")\n",
    "\n",
    "with open(image_url, \"rb\") as image_stream:\n",
    "    image_analysis = client.analyze_image_in_stream(\n",
    "        image=image_stream,\n",
    "        visual_features=[\n",
    "            VisualFeatureTypes.image_type,  # Could use simple str \"ImageType\"\n",
    "            VisualFeatureTypes.faces,      # Could use simple str \"Faces\"\n",
    "            VisualFeatureTypes.categories,  # Could use simple str \"Categories\"\n",
    "            VisualFeatureTypes.color,      # Could use simple str \"Color\"\n",
    "            VisualFeatureTypes.tags,       # Could use simple str \"Tags\"\n",
    "            VisualFeatureTypes.description  # Could use simple str \"Description\"\n",
    "        ]\n",
    "    )\n",
    "\n",
    "print(\"This image can be described as: {}\\n\".format(\n",
    "    image_analysis.description.captions[0].text))\n",
    "\n",
    "print(\"Tags associated with this image:\\nTag\\t\\tConfidence\")\n",
    "for tag in image_analysis.tags:\n",
    "    print(\"{}\\t\\t{}\".format(tag.name, tag.confidence))\n",
    "\n",
    "print(\"\\nThe primary colors of this image are: {}\".format(\n",
    "    image_analysis.color.dominant_colors))\n"
   ]
  },
  {
   "cell_type": "code",
   "execution_count": null,
   "id": "powered-physiology",
   "metadata": {},
   "outputs": [],
   "source": []
  },
  {
   "cell_type": "code",
   "execution_count": 19,
   "id": "incomplete-conviction",
   "metadata": {},
   "outputs": [],
   "source": [
    "import os.path\n",
    "\n",
    "from azure.cognitiveservices.vision.computervision import ComputerVisionClient\n",
    "from azure.cognitiveservices.vision.computervision.models import VisualFeatureTypes\n",
    "from msrest.authentication import CognitiveServicesCredentials\n",
    "\n",
    "def image_analysis_in_stream(subscription_key):\n",
    "    \"\"\"ImageAnalysisInStream.\n",
    "    This will analyze an image from a stream and return all available features.\n",
    "    \"\"\"\n",
    "    client = ComputerVisionClient(\n",
    "        endpoint=COMPUTERVISION_LOCATION,\n",
    "        credentials=CognitiveServicesCredentials(subscription_key)\n",
    "    )\n",
    "\n",
    "    with open(os.path.join(IMAGES_FOLDER, \"house.jpg\"), \"rb\") as image_stream:\n",
    "        image_analysis = client.analyze_image_in_stream(\n",
    "            image=image_stream,\n",
    "            visual_features=[\n",
    "                VisualFeatureTypes.image_type,  # Could use simple str \"ImageType\"\n",
    "                VisualFeatureTypes.faces,      # Could use simple str \"Faces\"\n",
    "                VisualFeatureTypes.categories,  # Could use simple str \"Categories\"\n",
    "                VisualFeatureTypes.color,      # Could use simple str \"Color\"\n",
    "                VisualFeatureTypes.tags,       # Could use simple str \"Tags\"\n",
    "                VisualFeatureTypes.description  # Could use simple str \"Description\"\n",
    "            ]\n",
    "        )\n",
    "\n",
    "    print(\"This image can be described as: {}\\n\".format(\n",
    "        image_analysis.description.captions[0].text))\n",
    "\n",
    "    print(\"Tags associated with this image:\\nTag\\t\\tConfidence\")\n",
    "    for tag in image_analysis.tags:\n",
    "        print(\"{}\\t\\t{}\".format(tag.name, tag.confidence))\n",
    "\n",
    "    print(\"\\nThe primary colors of this image are: {}\".format(\n",
    "        image_analysis.color.dominant_colors))\n",
    "\n",
    "\n",
    "def recognize_text(subscription_key):\n",
    "    \"\"\"RecognizeTextUsingRecognizeAPI.\n",
    "    This will recognize text of the given image using the recognizeText API.\n",
    "    \"\"\"\n",
    "    import time\n",
    "    client = ComputerVisionClient(\n",
    "        endpoint=COMPUTERVISION_LOCATION,\n",
    "        credentials=CognitiveServicesCredentials(subscription_key)\n",
    "    )\n",
    "\n",
    "    with open(os.path.join(IMAGES_FOLDER, \"make_things_happen.jpg\"), \"rb\") as image_stream:\n",
    "        job = client.recognize_text_in_stream(\n",
    "            image=image_stream,\n",
    "            mode=\"Printed\",\n",
    "            raw=True\n",
    "        )\n",
    "    operation_id = job.headers['Operation-Location'].split('/')[-1]\n",
    "\n",
    "    image_analysis = client.get_text_operation_result(operation_id)\n",
    "    while image_analysis.status in ['NotStarted', 'Running']:\n",
    "        time.sleep(1)\n",
    "        image_analysis = client.get_text_operation_result(\n",
    "            operation_id=operation_id)\n",
    "\n",
    "    print(\"Job completion is: {}\\n\".format(image_analysis.status))\n",
    "\n",
    "    print(\"Recognized:\\n\")\n",
    "    lines = image_analysis.recognition_result.lines\n",
    "    print(lines[0].words[0].text)  # \"make\"\n",
    "    print(lines[1].words[0].text)  # \"things\"\n",
    "    print(lines[2].words[0].text)  # \"happen\"\n",
    "\n",
    "\n",
    "def recognize_printed_text_in_stream(subscription_key):\n",
    "    \"\"\"RecognizedPrintedTextUsingOCR_API.\n",
    "    This will do an OCR analysis of the given image.\n",
    "    \"\"\"\n",
    "    client = ComputerVisionClient(\n",
    "        endpoint=COMPUTERVISION_LOCATION,\n",
    "        credentials=CognitiveServicesCredentials(subscription_key)\n",
    "    )\n",
    "\n",
    "    with open(os.path.join(IMAGES_FOLDER, \"computer_vision_ocr.png\"), \"rb\") as image_stream:\n",
    "        image_analysis = client.recognize_printed_text_in_stream(\n",
    "            image=image_stream,\n",
    "            language=\"en\"\n",
    "        )\n",
    "\n",
    "    lines = image_analysis.regions[0].lines\n",
    "    print(\"Recognized:\\n\")\n",
    "    for line in lines:\n",
    "        line_text = \" \".join([word.text for word in line.words])\n",
    "        print(line_text)\n"
   ]
  },
  {
   "cell_type": "code",
   "execution_count": 20,
   "id": "underlying-designation",
   "metadata": {},
   "outputs": [],
   "source": [
    "subscription_key = \"53f32bba50f1443cb9ae7e927441db83\"\n",
    "endpoint = \"https://azurehackforaccessibility.cognitiveservices.azure.com/\""
   ]
  },
  {
   "cell_type": "code",
   "execution_count": null,
   "id": "intelligent-sustainability",
   "metadata": {},
   "outputs": [],
   "source": []
  }
 ],
 "metadata": {
  "kernelspec": {
   "display_name": "Python 3",
   "language": "python",
   "name": "python3"
  },
  "language_info": {
   "codemirror_mode": {
    "name": "ipython",
    "version": 3
   },
   "file_extension": ".py",
   "mimetype": "text/x-python",
   "name": "python",
   "nbconvert_exporter": "python",
   "pygments_lexer": "ipython3",
   "version": "3.8.6"
  }
 },
 "nbformat": 4,
 "nbformat_minor": 5
}
